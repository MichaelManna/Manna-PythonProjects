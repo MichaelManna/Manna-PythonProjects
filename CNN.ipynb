{
 "cells": [
  {
   "cell_type": "code",
   "execution_count": 2,
   "metadata": {},
   "outputs": [],
   "source": [
    "# Import Libraries\n",
    "import tensorflow as tf\n",
    "from tensorflow.keras.preprocessing.image import ImageDataGenerator"
   ]
  },
  {
   "cell_type": "code",
   "execution_count": 4,
   "metadata": {},
   "outputs": [
    {
     "name": "stdout",
     "output_type": "stream",
     "text": [
      "Found 8000 images belonging to 2 classes.\n"
     ]
    }
   ],
   "source": [
    "#Preprocess the Training Set\n",
    "train_datagen = ImageDataGenerator(\n",
    "    rescale=1./255,\n",
    "    shear_range=0.2,\n",
    "    zoom_range=0.2,\n",
    "    horizontal_flip=True)\n",
    "\n",
    "training_set = train_datagen.flow_from_directory(\n",
    "    r'C:\\Users\\mannami\\Desktop\\Python\\DL Class\\CNN\\dataset\\training_set',\n",
    "    target_size = (64,64),\n",
    "    batch_size = 32,\n",
    "    class_mode = 'binary')"
   ]
  },
  {
   "cell_type": "code",
   "execution_count": 5,
   "metadata": {},
   "outputs": [
    {
     "name": "stdout",
     "output_type": "stream",
     "text": [
      "Found 2000 images belonging to 2 classes.\n"
     ]
    }
   ],
   "source": [
    "#Preprocess the Test Set\n",
    "test_datagen = ImageDataGenerator(\n",
    "    rescale=1./255)\n",
    "\n",
    "test_set = test_datagen.flow_from_directory(\n",
    "    r'C:\\Users\\mannami\\Desktop\\Python\\DL Class\\CNN\\dataset\\test_set',\n",
    "    target_size = (64,64),\n",
    "    batch_size = 32,\n",
    "    class_mode = 'binary')"
   ]
  },
  {
   "cell_type": "code",
   "execution_count": 6,
   "metadata": {},
   "outputs": [],
   "source": [
    "##Build the CNN\n",
    "#Initialize the CNN\n",
    "cnn = tf.keras.models.Sequential()\n",
    "# Add Convolution Layer 1\n",
    "cnn.add(tf.keras.layers.Conv2D(filters=32, kernel_size = 3, activation='relu', input_shape=[64,64,3]))\n",
    "#Pooling Layer 1\n",
    "cnn.add(tf.keras.layers.MaxPool2D(pool_size = 2, strides = 2))\n",
    "# Add Convolution Layer 2\n",
    "cnn.add(tf.keras.layers.Conv2D(filters=32, kernel_size = 3, activation='relu'))\n",
    "#Pooling Layer 2\n",
    "cnn.add(tf.keras.layers.MaxPool2D(pool_size = 2, strides = 2))\n",
    "#Flattening\n",
    "cnn.add(tf.keras.layers.Flatten())\n",
    "# Full Connection\n",
    "cnn.add(tf.keras.layers.Dense(units=128, activation='relu'))\n",
    "#Output Layer\n",
    "cnn.add(tf.keras.layers.Dense(units=1, activation='sigmoid'))"
   ]
  },
  {
   "cell_type": "code",
   "execution_count": 7,
   "metadata": {},
   "outputs": [
    {
     "name": "stdout",
     "output_type": "stream",
     "text": [
      "Epoch 1/25\n",
      "250/250 [==============================] - 35s 141ms/step - loss: 0.6702 - accuracy: 0.5828 - val_loss: 0.5997 - val_accuracy: 0.6955\n",
      "Epoch 2/25\n",
      "250/250 [==============================] - 35s 140ms/step - loss: 0.5926 - accuracy: 0.6846 - val_loss: 0.5599 - val_accuracy: 0.7155\n",
      "Epoch 3/25\n",
      "250/250 [==============================] - 35s 140ms/step - loss: 0.5665 - accuracy: 0.7054 - val_loss: 0.5310 - val_accuracy: 0.7330\n",
      "Epoch 4/25\n",
      "250/250 [==============================] - 35s 140ms/step - loss: 0.5357 - accuracy: 0.7335 - val_loss: 0.5207 - val_accuracy: 0.7525\n",
      "Epoch 5/25\n",
      "250/250 [==============================] - 35s 141ms/step - loss: 0.5063 - accuracy: 0.7465 - val_loss: 0.5108 - val_accuracy: 0.7560\n",
      "Epoch 6/25\n",
      "250/250 [==============================] - 36s 143ms/step - loss: 0.4900 - accuracy: 0.7620 - val_loss: 0.4875 - val_accuracy: 0.7715\n",
      "Epoch 7/25\n",
      "250/250 [==============================] - 35s 141ms/step - loss: 0.4662 - accuracy: 0.7782 - val_loss: 0.5890 - val_accuracy: 0.7310\n",
      "Epoch 8/25\n",
      "250/250 [==============================] - 35s 141ms/step - loss: 0.4621 - accuracy: 0.7782 - val_loss: 0.4983 - val_accuracy: 0.7715\n",
      "Epoch 9/25\n",
      "250/250 [==============================] - 35s 140ms/step - loss: 0.4392 - accuracy: 0.7937 - val_loss: 0.4866 - val_accuracy: 0.7900\n",
      "Epoch 10/25\n",
      "250/250 [==============================] - 35s 141ms/step - loss: 0.4190 - accuracy: 0.8025 - val_loss: 0.5014 - val_accuracy: 0.7790\n",
      "Epoch 11/25\n",
      "250/250 [==============================] - 35s 142ms/step - loss: 0.4118 - accuracy: 0.8108 - val_loss: 0.4720 - val_accuracy: 0.7890\n",
      "Epoch 12/25\n",
      "250/250 [==============================] - 35s 141ms/step - loss: 0.3964 - accuracy: 0.8148 - val_loss: 0.4706 - val_accuracy: 0.7945\n",
      "Epoch 13/25\n",
      "250/250 [==============================] - 36s 143ms/step - loss: 0.3862 - accuracy: 0.8278 - val_loss: 0.4680 - val_accuracy: 0.7995\n",
      "Epoch 14/25\n",
      "250/250 [==============================] - 35s 142ms/step - loss: 0.3764 - accuracy: 0.8292 - val_loss: 0.4491 - val_accuracy: 0.7985\n",
      "Epoch 15/25\n",
      "250/250 [==============================] - 35s 140ms/step - loss: 0.3658 - accuracy: 0.8346 - val_loss: 0.4675 - val_accuracy: 0.7990\n",
      "Epoch 16/25\n",
      "250/250 [==============================] - 35s 139ms/step - loss: 0.3559 - accuracy: 0.8400 - val_loss: 0.4788 - val_accuracy: 0.8070\n",
      "Epoch 17/25\n",
      "250/250 [==============================] - 35s 140ms/step - loss: 0.3478 - accuracy: 0.8428 - val_loss: 0.4715 - val_accuracy: 0.7995\n",
      "Epoch 18/25\n",
      "250/250 [==============================] - 35s 139ms/step - loss: 0.3345 - accuracy: 0.8521 - val_loss: 0.5011 - val_accuracy: 0.7980\n",
      "Epoch 19/25\n",
      "250/250 [==============================] - 35s 141ms/step - loss: 0.3197 - accuracy: 0.8599 - val_loss: 0.5046 - val_accuracy: 0.7945\n",
      "Epoch 20/25\n",
      "250/250 [==============================] - 35s 141ms/step - loss: 0.3091 - accuracy: 0.8643 - val_loss: 0.4857 - val_accuracy: 0.8040\n",
      "Epoch 21/25\n",
      "250/250 [==============================] - 35s 140ms/step - loss: 0.2978 - accuracy: 0.8701 - val_loss: 0.4902 - val_accuracy: 0.8035\n",
      "Epoch 22/25\n",
      "250/250 [==============================] - 35s 140ms/step - loss: 0.2806 - accuracy: 0.8758 - val_loss: 0.4700 - val_accuracy: 0.8160\n",
      "Epoch 23/25\n",
      "250/250 [==============================] - 35s 140ms/step - loss: 0.2762 - accuracy: 0.8799 - val_loss: 0.5062 - val_accuracy: 0.8070\n",
      "Epoch 24/25\n",
      "250/250 [==============================] - 35s 141ms/step - loss: 0.2667 - accuracy: 0.8845 - val_loss: 0.4823 - val_accuracy: 0.8070\n",
      "Epoch 25/25\n",
      "250/250 [==============================] - 35s 141ms/step - loss: 0.2667 - accuracy: 0.8824 - val_loss: 0.5079 - val_accuracy: 0.8050\n"
     ]
    },
    {
     "data": {
      "text/plain": [
       "<tensorflow.python.keras.callbacks.History at 0x2191f5944f0>"
      ]
     },
     "execution_count": 7,
     "metadata": {},
     "output_type": "execute_result"
    }
   ],
   "source": [
    "##Train the CNN\n",
    "#Compile the CNN\n",
    "cnn.compile(optimizer='adam', loss='binary_crossentropy', metrics=['accuracy'])\n",
    "#Train the CNN on Training Set\n",
    "cnn.fit(x=training_set, validation_data = test_set, epochs=25)"
   ]
  },
  {
   "cell_type": "code",
   "execution_count": 8,
   "metadata": {},
   "outputs": [
    {
     "name": "stdout",
     "output_type": "stream",
     "text": [
      "dog\n"
     ]
    }
   ],
   "source": [
    "#Making a prediction\n",
    "import numpy as np\n",
    "from tensorflow.keras.preprocessing import image\n",
    "\n",
    "#Load image\n",
    "test_image = image.load_img(r'C:\\Users\\mannami\\Desktop\\Python\\DL Class\\CNN\\dataset\\single_prediction/cat_or_dog_1.jpg', target_size=(64,64))\n",
    "\n",
    "#Image to array\n",
    "test_image = image.img_to_array(test_image)\n",
    "\n",
    "#Add batch as 1st dim\n",
    "test_image = np.expand_dims(test_image, axis=0)\n",
    "\n",
    "#Predict method\n",
    "result = cnn.predict(test_image)\n",
    "\n",
    "#Visualize Translation\n",
    "training_set.class_indices\n",
    "\n",
    "#Set Output to expected class\n",
    "if result[0][0] > 0.5:\n",
    "    prediction='dog'\n",
    "else:\n",
    "    prediction='cat'\n",
    "    \n",
    "#Output prediction\n",
    "print(prediction)"
   ]
  },
  {
   "cell_type": "code",
   "execution_count": null,
   "metadata": {},
   "outputs": [],
   "source": []
  }
 ],
 "metadata": {
  "kernelspec": {
   "display_name": "Python 3",
   "language": "python",
   "name": "python3"
  },
  "language_info": {
   "codemirror_mode": {
    "name": "ipython",
    "version": 3
   },
   "file_extension": ".py",
   "mimetype": "text/x-python",
   "name": "python",
   "nbconvert_exporter": "python",
   "pygments_lexer": "ipython3",
   "version": "3.8.5"
  }
 },
 "nbformat": 4,
 "nbformat_minor": 4
}
